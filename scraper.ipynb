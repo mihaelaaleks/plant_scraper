{
 "cells": [
  {
   "cell_type": "markdown",
   "metadata": {},
   "source": [
    "# First try / Rough process"
   ]
  },
  {
   "cell_type": "code",
   "execution_count": 1,
   "metadata": {},
   "outputs": [],
   "source": [
    "import requests\n",
    "from bs4 import BeautifulSoup\n",
    "import json"
   ]
  },
  {
   "cell_type": "code",
   "execution_count": 2,
   "metadata": {},
   "outputs": [],
   "source": [
    "base_url = \"https://www.shootgardening.co.uk/plant/\"\n",
    "specific_url = \"pachira-aquatica\""
   ]
  },
  {
   "cell_type": "code",
   "execution_count": 3,
   "metadata": {},
   "outputs": [],
   "source": [
    "page = requests.get(base_url + specific_url)\n",
    "soup = BeautifulSoup(page.content, \"html.parser\")"
   ]
  },
  {
   "cell_type": "code",
   "execution_count": 4,
   "metadata": {},
   "outputs": [],
   "source": [
    "results = soup.find(\"div\", class_=\"box box_selected\")\n",
    "text_only_results = results.text"
   ]
  },
  {
   "cell_type": "code",
   "execution_count": 5,
   "metadata": {},
   "outputs": [],
   "source": [
    "sections = {\"Other names\" : \"Genus\", #section 1 - other/common names\n",
    "            \"Cultivation\" : \"Soil type\", #section 2 - cultivation info\n",
    "            \"Soil type\" : \"Soil drainage\", #section 3 - soil type\n",
    "            \"Soil drainage\" : \"Soil pH\", #section 4 - soil drain/moisture\n",
    "            \"Soil pH\" : \"Light\", #section 5 - soil pH\n",
    "            \"Light\" : \"Aspect\", #section 6 - light/shade conditions\n",
    "            \"Aspect\" : \"Exposure\", #section 7 - optimal place for growth\n",
    "            \"Exposure\" : \"UK hardiness\", #section 8 - light exposure\n",
    "            }"
   ]
  },
  {
   "cell_type": "code",
   "execution_count": 6,
   "metadata": {},
   "outputs": [
    {
     "name": "stdout",
     "output_type": "stream",
     "text": [
      "Other names -> Genus\n",
      "Cultivation -> Soil type\n",
      "Soil type -> Soil drainage\n",
      "Soil drainage -> Soil pH\n",
      "Soil pH -> Light\n",
      "Light -> Aspect\n",
      "Aspect -> Exposure\n",
      "Exposure -> UK hardiness\n",
      "Dictionary has a total of 8 entries\n"
     ]
    }
   ],
   "source": [
    "for key in sections:\n",
    "    print(key, '->', sections[key])\n",
    "print (\"Dictionary has a total of\", len(sections), \"entries\")"
   ]
  },
  {
   "cell_type": "code",
   "execution_count": 7,
   "metadata": {},
   "outputs": [],
   "source": [
    "#take in kvp from section and get respective section text\n",
    "def get_plant_upkeep_info_sections(list):\n",
    "    start = text_only_results.find(key) + len(key)\n",
    "    end = text_only_results.find(sections[key])\n",
    "    specific_section_text = text_only_results [start:end]\n",
    "    list.append(specific_section_text)\n"
   ]
  },
  {
   "cell_type": "code",
   "execution_count": 8,
   "metadata": {},
   "outputs": [],
   "source": [
    "plant_upkeep_as_list = []\n",
    "\n",
    "for key in sections:\n",
    "    get_plant_upkeep_info_sections(plant_upkeep_as_list)"
   ]
  },
  {
   "cell_type": "code",
   "execution_count": 9,
   "metadata": {},
   "outputs": [
    {
     "name": "stdout",
     "output_type": "stream",
     "text": [
      "\n",
      "Money tree, Provision tree, Shaving brush tree, Guiana chestnut, Water chestnut\n",
      "\n",
      "\n",
      "Grow indoors in a partially shaded position. Water regularly, applying a balanced fertiliser each month. Maintain humidity with regular misting.\n",
      "\n",
      "\n",
      "Loamy\n",
      "\n",
      "\n",
      "Moist but well-drained, Well-drained\n",
      "\n",
      "\n",
      "Acid, Alkaline, Neutral\n",
      "\n",
      "\n",
      "Partial Shade\n",
      "\n",
      "\n",
      "East, West\n",
      "\n",
      "\n",
      "Sheltered\n",
      "\n",
      "List has a total of 8 entries\n"
     ]
    }
   ],
   "source": [
    "for item in plant_upkeep_as_list:\n",
    "    print(item)\n",
    "print(\"List has a total of\", len(plant_upkeep_as_list), \"entries\")"
   ]
  },
  {
   "cell_type": "code",
   "execution_count": 10,
   "metadata": {},
   "outputs": [],
   "source": [
    "#draft json structure\n",
    "money_tree_dict_test = {\n",
    "    \"Common names\" : [\"Money tree\", \"Provision tree\", \"Shaving bush tree\", \"Guiana chestnut\", \"Water chestnut\"],\n",
    "    \"Cultivation\" : \"Grow indoors in a partially shaded position. Water regularly, applying a balanced fertiliser each month. Maintain humidity with regular misting.\",\n",
    "    \"Soil\" : {\n",
    "        \"Type\" : \"Loamy\",\n",
    "        \"Drainage\" : \"Moist but well-drained, Well-drained\",\n",
    "        \"pH\" : [\"Acid\",\"Alkaline\",\"Neutral\"]\n",
    "    },\n",
    "    \"Light\" : \"Partial Shade\",\n",
    "    \"Placement\": {\n",
    "        \"Aspect\": \"East, West\",\n",
    "        \"Exposure\": \"Sheltered\" \n",
    "    },\n",
    "    \"Image\": \"\"\n",
    "}"
   ]
  },
  {
   "cell_type": "code",
   "execution_count": 11,
   "metadata": {},
   "outputs": [],
   "source": [
    "#turning long comma separated strings into a list\n",
    "def convert_names(string):\n",
    "    cleaned_name_list = []\n",
    "    other_names_as_list = list(string.split(\",\"))\n",
    "    for i in other_names_as_list:\n",
    "        new_i = i.strip()\n",
    "        cleaned_name_list.append(new_i)\n",
    "    return cleaned_name_list"
   ]
  },
  {
   "cell_type": "code",
   "execution_count": 12,
   "metadata": {},
   "outputs": [],
   "source": [
    "#cleaning \\n around each item of the list\n",
    "def clean_list_strings(list):\n",
    "    for i,s in enumerate(list):\n",
    "        list[i] = s.strip()\n",
    "    return list"
   ]
  },
  {
   "cell_type": "code",
   "execution_count": 13,
   "metadata": {},
   "outputs": [],
   "source": [
    "def make_dict(name):\n",
    "    some_var = {\n",
    "    name : {\n",
    "    \"Common names\" : convert_names(plant_upkeep_as_list[0]),\n",
    "    \"Cultivation\" : plant_upkeep_as_list[1],\n",
    "    \"Soil\" : {\n",
    "        \"Type\" : plant_upkeep_as_list[2],\n",
    "        \"Drainage\" : plant_upkeep_as_list[3],\n",
    "        \"pH\" : convert_names(plant_upkeep_as_list[4])\n",
    "    },\n",
    "    \"Light\" : plant_upkeep_as_list[5],\n",
    "    \"Placement\": {\n",
    "        \"Aspect\": plant_upkeep_as_list[6],\n",
    "        \"Exposure\": plant_upkeep_as_list[7] \n",
    "    },\n",
    "    \"Image\": \"\"}\n",
    "    }\n",
    "    return some_var"
   ]
  },
  {
   "cell_type": "markdown",
   "metadata": {},
   "source": [
    "# Clean up / Detailed process"
   ]
  },
  {
   "cell_type": "markdown",
   "metadata": {},
   "source": [
    "The script is trying to take raw scraped html, clean it up and fit it in a json format.\n",
    "This is what is called an ETL process. ETL stands for Extract-Transform-Load.\n",
    "\n",
    "1.  <b>Extract:</b> Make the request for the plant we want\n",
    "2.  <b>Transform:</b> Read the html to scrape the data we need\n",
    "3.  <b>Load:</b> Save the scraped data into the json format we desire \n"
   ]
  },
  {
   "cell_type": "code",
   "execution_count": 14,
   "metadata": {},
   "outputs": [],
   "source": [
    "import requests\n",
    "from bs4 import BeautifulSoup\n",
    "import json\n",
    "import logging\n",
    "\n",
    "logging.basicConfig(level=logging.DEBUG,\n",
    "                    format='%(asctime)s %(message)s')\n",
    "logger = logging.getLogger(__name__)"
   ]
  },
  {
   "cell_type": "markdown",
   "metadata": {},
   "source": [
    "## Extract\n"
   ]
  },
  {
   "cell_type": "markdown",
   "metadata": {},
   "source": [
    "\n",
    "-  we create a url specific to some plant\n",
    "-  then we make a request to that url \n",
    "-  we then soupify the response we got back from that url\n",
    "-  then we filter the html soup we have to get only the contents of \n",
    "   `.find(\"div\", class_=\"box box_selected\")`"
   ]
  },
  {
   "cell_type": "code",
   "execution_count": null,
   "metadata": {},
   "outputs": [],
   "source": [
    "# Below I pasted the code you used earlier to create the \n",
    "# `text_only_results` variable\n",
    "base_url = \"https://www.shootgardening.co.uk/plant/\"\n",
    "specific_url = \"pachira-aquatica\"\n",
    "\n",
    "page = requests.get(base_url + specific_url)\n",
    "soup = BeautifulSoup(page.content, \"html.parser\")\n",
    "\n",
    "results = soup.find(\"div\", class_=\"box box_selected\")\n",
    "text_only_results = results.text"
   ]
  },
  {
   "cell_type": "markdown",
   "metadata": {},
   "source": [
    "What we need to do is encapsulate the above behaviour into a function.\n",
    "\n",
    "The function will take the plant name as a string as a parameter.<br>\n",
    "The function will return the ```text_only_results``` for the page."
   ]
  },
  {
   "cell_type": "code",
   "execution_count": 15,
   "metadata": {},
   "outputs": [],
   "source": [
    "def get_html_text_for_plant(plant_name):\n",
    "    base_url = \"https://www.shootgardening.co.uk/plant/\"\n",
    "    url = base_url + plant_name\n",
    "    logger.info(f\"reading url {url}\")\n",
    "    \n",
    "    page = requests.get(url)\n",
    "    soup = BeautifulSoup(page.content, \"html.parser\")\n",
    "    \n",
    "    results = soup.find(\"div\", class_=\"box box_selected\")\n",
    "    text_only_results = results.text\n",
    "    return text_only_results\n",
    "    "
   ]
  },
  {
   "cell_type": "code",
   "execution_count": 16,
   "metadata": {},
   "outputs": [
    {
     "name": "stderr",
     "output_type": "stream",
     "text": [
      "2022-03-30 16:23:15,076 reading url https://www.shootgardening.co.uk/plant/pachira-aquatica\n",
      "2022-03-30 16:23:15,079 Starting new HTTPS connection (1): www.shootgardening.co.uk:443\n",
      "2022-03-30 16:23:15,449 https://www.shootgardening.co.uk:443 \"GET /plant/pachira-aquatica HTTP/1.1\" 200 None\n"
     ]
    }
   ],
   "source": [
    "plant_specific_text_result = get_html_text_for_plant(\"pachira-aquatica\")"
   ]
  },
  {
   "cell_type": "markdown",
   "metadata": {},
   "source": [
    "## Transform"
   ]
  },
  {
   "cell_type": "markdown",
   "metadata": {},
   "source": [
    "-  For the transform, we first initialize a `sections` variable where we map\n",
    "   the start of a section with the end of a section.\n",
    "   - For example, trying to extract the html specifically between `\"Other names\" and \"Genus\"` \\\n",
    "-  We iterate through the `sections`, making a call to `get_plant_upkeep_info_sections` on each iteration.\n",
    "-  The `get_plant_upkeep_info_sections` takes in a list that it updates on each iteration of looping through `sections`\n",
    "-  We create a variable `plant_upkeep_as_list` that is updated by the above step of iterating through `sections`\n",
    "-  The final result is that `plant_upkeep_as_list` is a list of the items we want for the plant"
   ]
  },
  {
   "cell_type": "markdown",
   "metadata": {},
   "source": [
    "#### Original"
   ]
  },
  {
   "cell_type": "code",
   "execution_count": null,
   "metadata": {},
   "outputs": [],
   "source": [
    "sections = {\"Other names\" : \"Genus\", #section 1 - other/common names\n",
    "            \"Cultivation\" : \"Soil type\", #section 2 - cultivation info\n",
    "            \"Soil type\" : \"Soil drainage\", #section 3 - soil type\n",
    "            \"Soil drainage\" : \"Soil pH\", #section 4 - soil drain/moisture\n",
    "            \"Soil pH\" : \"Light\", #section 5 - soil pH\n",
    "            \"Light\" : \"Aspect\", #section 6 - light/shade conditions\n",
    "            \"Aspect\" : \"Exposure\", #section 7 - optimal place for growth\n",
    "            \"Exposure\" : \"UK hardiness\", #section 8 - light exposure\n",
    "            }"
   ]
  },
  {
   "cell_type": "code",
   "execution_count": null,
   "metadata": {},
   "outputs": [],
   "source": [
    "#take in kvp from section and get respective section text\n",
    "def get_plant_upkeep_info_sections(list):\n",
    "    start = text_only_results.find(key) + len(key)\n",
    "    end = text_only_results.find(sections[key])\n",
    "    specific_section_text = text_only_results [start:end]\n",
    "    list.append(specific_section_text.strip())\n"
   ]
  },
  {
   "cell_type": "code",
   "execution_count": null,
   "metadata": {},
   "outputs": [],
   "source": [
    "plant_upkeep_as_list = []\n",
    "\n",
    "for key in sections:\n",
    "    get_plant_upkeep_info_sections(plant_upkeep_as_list)"
   ]
  },
  {
   "cell_type": "code",
   "execution_count": null,
   "metadata": {},
   "outputs": [],
   "source": [
    "plant_upkeep_as_list"
   ]
  },
  {
   "cell_type": "markdown",
   "metadata": {},
   "source": [
    "### Update"
   ]
  },
  {
   "cell_type": "markdown",
   "metadata": {},
   "source": [
    "There's a few things I want to clean-up about the previous Transform solution.\n",
    "\n",
    "Similar to what was done for the Extract portion, we are going to work to incorporate the Transform portion into a function.\n",
    "\n",
    "If we look at the original `get_plant_upkeep_info_sections` there's a few things to improve:\n",
    "-  It takes in a parameter called `list`. In python `list` is a type. One should never call their variable `list` in python.\n",
    "-  The function relies on several variables that it does not take in as parameters.\n",
    "   - It uses the variables `text_only_results`, `key`, and `sections`\n",
    "-  In a setting outside of Jupyter, we would run into an issue because those variables would not be in scope.\n",
    "\n",
    "\n",
    "The approach the update takes is similar but different.\n",
    "-  We want to create a list of the upkeep_items\n",
    "-  We will iterate through the same sections\n",
    "-  We now have a function that takes in the key, value, and full text that we are searching.\n",
    "   This function returns the subtext that we were looking for.\n",
    "-  We then take this returned output and append to a list"
   ]
  },
  {
   "cell_type": "code",
   "execution_count": 22,
   "metadata": {},
   "outputs": [],
   "source": [
    "def get_sections():\n",
    "    sections = {\"Other names\" : \"Genus\", #section 1 - other/common names\n",
    "            \"Cultivation\" : \"Soil type\", #section 2 - cultivation info\n",
    "            \"Soil type\" : \"Soil drainage\", #section 3 - soil type\n",
    "            \"Soil drainage\" : \"Soil pH\", #section 4 - soil drain/moisture\n",
    "            \"Soil pH\" : \"Light\", #section 5 - soil pH\n",
    "            \"Light\" : \"Aspect\", #section 6 - light/shade conditions\n",
    "            \"Aspect\" : \"Exposure\", #section 7 - optimal place for growth\n",
    "            \"Exposure\" : \"UK hardiness\", #section 8 - light exposure\n",
    "            }\n",
    "    return sections"
   ]
  },
  {
   "cell_type": "code",
   "execution_count": 23,
   "metadata": {},
   "outputs": [],
   "source": [
    "def get_text_for_bounded_section(key, value, text_result):\n",
    "    start = text_result.find(key) + len(key)\n",
    "    end = text_result.find(value)\n",
    "    subtext = text_result[start:end]\n",
    "    subtext = subtext.strip()\n",
    "    logger.info(f\"Between {key} and {value} the text '{subtext}' was extracted\")\n",
    "    return subtext"
   ]
  },
  {
   "cell_type": "code",
   "execution_count": 24,
   "metadata": {},
   "outputs": [],
   "source": [
    "def create_list_of_plant_upkeep_items(text_result):\n",
    "    sections = get_sections()\n",
    "    \n",
    "    upkeep_items = []\n",
    "    for key in sections:\n",
    "        value = sections[key]\n",
    "        subtext = get_text_for_bounded_section(key, value, text_result)\n",
    "        upkeep_items.append(subtext)\n",
    "    \n",
    "    return upkeep_items"
   ]
  },
  {
   "cell_type": "markdown",
   "metadata": {},
   "source": [
    "## Load"
   ]
  },
  {
   "cell_type": "markdown",
   "metadata": {},
   "source": [
    "-  For the Load we are using the `plant_upkeep_as_list` variable we created to populate a dictionary\n",
    "-  Then we plan on using that dictionary to populate a json file"
   ]
  },
  {
   "cell_type": "markdown",
   "metadata": {},
   "source": [
    "#### Original"
   ]
  },
  {
   "cell_type": "code",
   "execution_count": 29,
   "metadata": {},
   "outputs": [],
   "source": [
    "#turning long comma separated strings into a list\n",
    "def convert_names(string):\n",
    "    cleaned_name_list = []\n",
    "    other_names_as_list = list(string.split(\",\"))\n",
    "    for i in other_names_as_list:\n",
    "        new_i = i.strip()\n",
    "        cleaned_name_list.append(new_i)\n",
    "    return cleaned_name_list"
   ]
  },
  {
   "cell_type": "code",
   "execution_count": 30,
   "metadata": {},
   "outputs": [],
   "source": [
    "def make_dict(name):\n",
    "    some_var = {\n",
    "    name : {\n",
    "    \"Common names\" : convert_names(plant_upkeep_as_list[0]),\n",
    "    \"Cultivation\" : plant_upkeep_as_list[1],\n",
    "    \"Soil\" : {\n",
    "        \"Type\" : plant_upkeep_as_list[2],\n",
    "        \"Drainage\" : plant_upkeep_as_list[3],\n",
    "        \"pH\" : convert_names(plant_upkeep_as_list[4])\n",
    "    },\n",
    "    \"Light\" : plant_upkeep_as_list[5],\n",
    "    \"Placement\": {\n",
    "        \"Aspect\": plant_upkeep_as_list[6],\n",
    "        \"Exposure\": plant_upkeep_as_list[7] \n",
    "    },\n",
    "    \"Image\": \"\"}\n",
    "    }\n",
    "    return some_var"
   ]
  },
  {
   "cell_type": "markdown",
   "metadata": {},
   "source": [
    "#### Update"
   ]
  },
  {
   "cell_type": "code",
   "execution_count": 31,
   "metadata": {},
   "outputs": [],
   "source": [
    "#turning long comma separated strings into a list\n",
    "def convert_names(string):\n",
    "    cleaned_name_list = []\n",
    "    other_names_as_list = list(string.split(\",\"))\n",
    "    for i in other_names_as_list:\n",
    "        new_i = i.strip()\n",
    "        cleaned_name_list.append(new_i)\n",
    "    return cleaned_name_list"
   ]
  },
  {
   "cell_type": "code",
   "execution_count": 26,
   "metadata": {},
   "outputs": [],
   "source": [
    "def make_json_from_upkeep_list(plant_upkeep_list):\n",
    "    single_plant_json = {\n",
    "        \"Common names\" : convert_names(plant_upkeep_list[0]),\n",
    "        \"Cultivation\" : plant_upkeep_list[1],\n",
    "        \"Soil\" : {\n",
    "            \"Type\" : plant_upkeep_list[2],\n",
    "            \"Drainage\" : plant_upkeep_list[3],\n",
    "            \"pH\" : convert_names(plant_upkeep_list[4])\n",
    "        },\n",
    "        \"Light\" : plant_upkeep_list[5],\n",
    "        \"Placement\": {\n",
    "            \"Aspect\": plant_upkeep_list[6],\n",
    "            \"Exposure\": plant_upkeep_list[7] \n",
    "        },\n",
    "        \"Image\": \"\"\n",
    "    }\n",
    "    return single_plant_json"
   ]
  },
  {
   "cell_type": "markdown",
   "metadata": {},
   "source": [
    "## Full Process"
   ]
  },
  {
   "cell_type": "code",
   "execution_count": 34,
   "metadata": {},
   "outputs": [
    {
     "name": "stderr",
     "output_type": "stream",
     "text": [
      "2022-03-30 16:30:44,785 reading url https://www.shootgardening.co.uk/plant/pachira-aquatica\n",
      "2022-03-30 16:30:44,790 Starting new HTTPS connection (1): www.shootgardening.co.uk:443\n",
      "2022-03-30 16:30:45,252 https://www.shootgardening.co.uk:443 \"GET /plant/pachira-aquatica HTTP/1.1\" 200 None\n",
      "2022-03-30 16:30:45,315 Between Other names and Genus the text 'Money tree, Provision tree, Shaving brush tree, Guiana chestnut, Water chestnut' was extracted\n",
      "2022-03-30 16:30:45,316 Between Cultivation and Soil type the text 'Grow indoors in a partially shaded position. Water regularly, applying a balanced fertiliser each month. Maintain humidity with regular misting.' was extracted\n",
      "2022-03-30 16:30:45,316 Between Soil type and Soil drainage the text 'Loamy' was extracted\n",
      "2022-03-30 16:30:45,317 Between Soil drainage and Soil pH the text 'Moist but well-drained, Well-drained' was extracted\n",
      "2022-03-30 16:30:45,318 Between Soil pH and Light the text 'Acid, Alkaline, Neutral' was extracted\n",
      "2022-03-30 16:30:45,318 Between Light and Aspect the text 'Partial Shade' was extracted\n",
      "2022-03-30 16:30:45,319 Between Aspect and Exposure the text 'East, West' was extracted\n",
      "2022-03-30 16:30:45,320 Between Exposure and UK hardiness the text 'Sheltered' was extracted\n"
     ]
    }
   ],
   "source": [
    "plant_name = \"pachira-aquatica\"\n",
    "plant_specific_text_result = get_html_text_for_plant(plant_name)\n",
    "upkeep_items = create_list_of_plant_upkeep_items(plant_specific_text_result)\n",
    "upkeep_json = make_json_from_upkeep_list(upkeep_items)\n",
    "plant_json = {plant_name : upkeep_json}\n"
   ]
  },
  {
   "cell_type": "code",
   "execution_count": 39,
   "metadata": {},
   "outputs": [],
   "source": [
    "def write_plant_json_to_file(plant_json, filename=\"data.json\"):\n",
    "    with open(filename, 'w') as fp:\n",
    "        json.dump(plant_json, fp, indent=2)"
   ]
  },
  {
   "cell_type": "markdown",
   "metadata": {},
   "source": [
    "## Wrapping it up"
   ]
  },
  {
   "cell_type": "code",
   "execution_count": 40,
   "metadata": {},
   "outputs": [],
   "source": [
    "def get_json_for_plant(plant_name):\n",
    "    plant_specific_text_result = get_html_text_for_plant(plant_name)\n",
    "    upkeep_items = create_list_of_plant_upkeep_items(plant_specific_text_result)\n",
    "    upkeep_json = make_json_from_upkeep_list(upkeep_items)\n",
    "    plant_json = {plant_name : upkeep_json}\n",
    "    return plant_json"
   ]
  },
  {
   "cell_type": "code",
   "execution_count": 41,
   "metadata": {},
   "outputs": [
    {
     "name": "stderr",
     "output_type": "stream",
     "text": [
      "2022-03-30 16:33:32,240 reading url https://www.shootgardening.co.uk/plant/pachira-aquatica\n",
      "2022-03-30 16:33:32,242 Starting new HTTPS connection (1): www.shootgardening.co.uk:443\n",
      "2022-03-30 16:33:32,659 https://www.shootgardening.co.uk:443 \"GET /plant/pachira-aquatica HTTP/1.1\" 200 None\n",
      "2022-03-30 16:33:32,744 Between Other names and Genus the text 'Money tree, Provision tree, Shaving brush tree, Guiana chestnut, Water chestnut' was extracted\n",
      "2022-03-30 16:33:32,744 Between Cultivation and Soil type the text 'Grow indoors in a partially shaded position. Water regularly, applying a balanced fertiliser each month. Maintain humidity with regular misting.' was extracted\n",
      "2022-03-30 16:33:32,744 Between Soil type and Soil drainage the text 'Loamy' was extracted\n",
      "2022-03-30 16:33:32,745 Between Soil drainage and Soil pH the text 'Moist but well-drained, Well-drained' was extracted\n",
      "2022-03-30 16:33:32,745 Between Soil pH and Light the text 'Acid, Alkaline, Neutral' was extracted\n",
      "2022-03-30 16:33:32,746 Between Light and Aspect the text 'Partial Shade' was extracted\n",
      "2022-03-30 16:33:32,747 Between Aspect and Exposure the text 'East, West' was extracted\n",
      "2022-03-30 16:33:32,747 Between Exposure and UK hardiness the text 'Sheltered' was extracted\n"
     ]
    }
   ],
   "source": [
    "plant_json = get_json_for_plant(\"pachira-aquatica\")\n",
    "write_plant_json_to_file(plant_json)"
   ]
  },
  {
   "cell_type": "code",
   "execution_count": 42,
   "metadata": {},
   "outputs": [
    {
     "name": "stderr",
     "output_type": "stream",
     "text": [
      "2022-03-30 16:34:55,482 reading url https://www.shootgardening.co.uk/plant/calathea-makoyana\n",
      "2022-03-30 16:34:55,486 Starting new HTTPS connection (1): www.shootgardening.co.uk:443\n",
      "2022-03-30 16:34:55,956 https://www.shootgardening.co.uk:443 \"GET /plant/calathea-makoyana HTTP/1.1\" 200 None\n",
      "2022-03-30 16:34:56,022 Between Other names and Genus the text 'Peacock plant, Cathedral windows, Brain plant' was extracted\n",
      "2022-03-30 16:34:56,023 Between Cultivation and Soil type the text 'Avoid direct sunlight. Enjoys humid, draught-free conditions with a consistent temperature of at least 16 °C. Water during the growing season, applying a liquid feed monthly and keep the compost moist but not wet during winter.' was extracted\n",
      "2022-03-30 16:34:56,024 Between Soil type and Soil drainage the text 'Chalky, Clay, Loamy' was extracted\n",
      "2022-03-30 16:34:56,025 Between Soil drainage and Soil pH the text 'Moist but well-drained, Well-drained' was extracted\n",
      "2022-03-30 16:34:56,025 Between Soil pH and Light the text 'Acid, Alkaline, Neutral' was extracted\n",
      "2022-03-30 16:34:56,026 Between Light and Aspect the text 'Partial Shade' was extracted\n",
      "2022-03-30 16:34:56,027 Between Aspect and Exposure the text 'North, South, East, West' was extracted\n",
      "2022-03-30 16:34:56,028 Between Exposure and UK hardiness the text 'Sheltered' was extracted\n"
     ]
    }
   ],
   "source": [
    "plant = \"calathea-makoyana\"\n",
    "plant_json = get_json_for_plant(plant)\n",
    "write_plant_json_to_file(plant_json)"
   ]
  },
  {
   "cell_type": "code",
   "execution_count": 55,
   "metadata": {},
   "outputs": [
    {
     "name": "stderr",
     "output_type": "stream",
     "text": [
      "2022-03-30 16:38:02,661 reading url https://www.shootgardening.co.uk/plant/calathea-makoyana\n",
      "2022-03-30 16:38:02,665 Starting new HTTPS connection (1): www.shootgardening.co.uk:443\n",
      "2022-03-30 16:38:03,205 https://www.shootgardening.co.uk:443 \"GET /plant/calathea-makoyana HTTP/1.1\" 200 None\n",
      "2022-03-30 16:38:03,273 Between Other names and Genus the text 'Peacock plant, Cathedral windows, Brain plant' was extracted\n",
      "2022-03-30 16:38:03,273 Between Cultivation and Soil type the text 'Avoid direct sunlight. Enjoys humid, draught-free conditions with a consistent temperature of at least 16 °C. Water during the growing season, applying a liquid feed monthly and keep the compost moist but not wet during winter.' was extracted\n",
      "2022-03-30 16:38:03,274 Between Soil type and Soil drainage the text 'Chalky, Clay, Loamy' was extracted\n",
      "2022-03-30 16:38:03,274 Between Soil drainage and Soil pH the text 'Moist but well-drained, Well-drained' was extracted\n",
      "2022-03-30 16:38:03,275 Between Soil pH and Light the text 'Acid, Alkaline, Neutral' was extracted\n",
      "2022-03-30 16:38:03,276 Between Light and Aspect the text 'Partial Shade' was extracted\n",
      "2022-03-30 16:38:03,276 Between Aspect and Exposure the text 'North, South, East, West' was extracted\n",
      "2022-03-30 16:38:03,278 Between Exposure and UK hardiness the text 'Sheltered' was extracted\n",
      "2022-03-30 16:38:03,278 reading url https://www.shootgardening.co.uk/plant/pachira-aquatica\n",
      "2022-03-30 16:38:03,281 Starting new HTTPS connection (1): www.shootgardening.co.uk:443\n",
      "2022-03-30 16:38:03,720 https://www.shootgardening.co.uk:443 \"GET /plant/pachira-aquatica HTTP/1.1\" 200 None\n",
      "2022-03-30 16:38:03,793 Between Other names and Genus the text 'Money tree, Provision tree, Shaving brush tree, Guiana chestnut, Water chestnut' was extracted\n",
      "2022-03-30 16:38:03,793 Between Cultivation and Soil type the text 'Grow indoors in a partially shaded position. Water regularly, applying a balanced fertiliser each month. Maintain humidity with regular misting.' was extracted\n",
      "2022-03-30 16:38:03,794 Between Soil type and Soil drainage the text 'Loamy' was extracted\n",
      "2022-03-30 16:38:03,795 Between Soil drainage and Soil pH the text 'Moist but well-drained, Well-drained' was extracted\n",
      "2022-03-30 16:38:03,795 Between Soil pH and Light the text 'Acid, Alkaline, Neutral' was extracted\n",
      "2022-03-30 16:38:03,796 Between Light and Aspect the text 'Partial Shade' was extracted\n",
      "2022-03-30 16:38:03,797 Between Aspect and Exposure the text 'East, West' was extracted\n",
      "2022-03-30 16:38:03,798 Between Exposure and UK hardiness the text 'Sheltered' was extracted\n",
      "2022-03-30 16:38:03,800 reading url https://www.shootgardening.co.uk/plant/aloe-any-succulent-variety\n",
      "2022-03-30 16:38:03,803 Starting new HTTPS connection (1): www.shootgardening.co.uk:443\n",
      "2022-03-30 16:38:04,226 https://www.shootgardening.co.uk:443 \"GET /plant/aloe-any-succulent-variety HTTP/1.1\" 200 None\n",
      "2022-03-30 16:38:04,334 Between Other names and Genus the text 'Aloe (any variety)' was extracted\n",
      "2022-03-30 16:38:04,335 Between Cultivation and Soil type the text 'Grow under glass in sharply drained, loam-based compost in full light & good ventilation. In growth, water moderately & feed 2-3 times, sparingly in dormancy. Outdoors in frost-free areas, grow in fertile, well-drained soil in sun. May flower intermittently throughout the year in warm climates.' was extracted\n",
      "2022-03-30 16:38:04,335 Between Soil type and Soil drainage the text 'Loamy, Sandy' was extracted\n",
      "2022-03-30 16:38:04,336 Between Soil drainage and Soil pH the text 'Well-drained' was extracted\n",
      "2022-03-30 16:38:04,337 Between Soil pH and Light the text 'Acid, Alkaline, Neutral' was extracted\n",
      "2022-03-30 16:38:04,337 Between Light and Aspect the text 'Full Sun' was extracted\n",
      "2022-03-30 16:38:04,338 Between Aspect and Exposure the text 'South, East' was extracted\n",
      "2022-03-30 16:38:04,340 Between Exposure and UK hardiness the text 'Sheltered' was extracted\n"
     ]
    }
   ],
   "source": [
    "plants = [\"calathea-makoyana\", \"pachira-aquatica\", \"aloe-any-succulent-variety\"]\n",
    "plants_json = {}\n",
    "for plant in plants:\n",
    "    plant_json = get_json_for_plant(plant)\n",
    "    plants_json.update(plant_json)\n"
   ]
  }
 ],
 "metadata": {
  "interpreter": {
   "hash": "e3251d685a1e60e865c5b0aec3ef71a90dae44929d6c4f036855ed44a9f8a8d4"
  },
  "kernelspec": {
   "display_name": "Python 3.7.11 ('scraper_env')",
   "language": "python",
   "name": "python3"
  },
  "language_info": {
   "codemirror_mode": {
    "name": "ipython",
    "version": 3
   },
   "file_extension": ".py",
   "mimetype": "text/x-python",
   "name": "python",
   "nbconvert_exporter": "python",
   "pygments_lexer": "ipython3",
   "version": "3.7.11"
  },
  "orig_nbformat": 4
 },
 "nbformat": 4,
 "nbformat_minor": 2
}
